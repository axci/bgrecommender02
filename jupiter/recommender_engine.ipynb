{
 "cells": [
  {
   "cell_type": "markdown",
   "id": "1b38121a-df06-489f-9bbe-624512a9b88c",
   "metadata": {},
   "source": [
    "Inspired by Andrew Ng lectures"
   ]
  },
  {
   "cell_type": "markdown",
   "id": "15a5409b-6fae-4850-b56f-93d9761b62b3",
   "metadata": {},
   "source": [
    "### Import Libraries"
   ]
  },
  {
   "cell_type": "code",
   "execution_count": 4,
   "id": "f304df87-4561-468e-89e1-1be27154ab26",
   "metadata": {},
   "outputs": [],
   "source": [
    "import matplotlib.pyplot as plt\n",
    "import pandas as pd\n",
    "import numpy as np\n",
    "import tensorflow as tf\n",
    "from tensorflow import keras\n",
    "from tqdm import tqdm\n"
   ]
  },
  {
   "cell_type": "markdown",
   "id": "b8148d26-202a-4661-9c8a-cc348a596715",
   "metadata": {},
   "source": [
    "### Load data"
   ]
  },
  {
   "cell_type": "code",
   "execution_count": 7,
   "id": "d8382d2c-da50-406d-9646-ddae1275e091",
   "metadata": {},
   "outputs": [
    {
     "name": "stdout",
     "output_type": "stream",
     "text": [
      "In this dataset there are 554 games, 148308 users and 4946868 total votes\n"
     ]
    },
    {
     "data": {
      "text/html": [
       "<div>\n",
       "<style scoped>\n",
       "    .dataframe tbody tr th:only-of-type {\n",
       "        vertical-align: middle;\n",
       "    }\n",
       "\n",
       "    .dataframe tbody tr th {\n",
       "        vertical-align: top;\n",
       "    }\n",
       "\n",
       "    .dataframe thead th {\n",
       "        text-align: right;\n",
       "    }\n",
       "</style>\n",
       "<table border=\"1\" class=\"dataframe\">\n",
       "  <thead>\n",
       "    <tr style=\"text-align: right;\">\n",
       "      <th></th>\n",
       "      <th>gameid</th>\n",
       "      <th>user</th>\n",
       "      <th>rating</th>\n",
       "    </tr>\n",
       "  </thead>\n",
       "  <tbody>\n",
       "    <tr>\n",
       "      <th>0</th>\n",
       "      <td>188</td>\n",
       "      <td>-Johnny-</td>\n",
       "      <td>5.0</td>\n",
       "    </tr>\n",
       "    <tr>\n",
       "      <th>1</th>\n",
       "      <td>188</td>\n",
       "      <td>-Morphling-</td>\n",
       "      <td>7.0</td>\n",
       "    </tr>\n",
       "  </tbody>\n",
       "</table>\n",
       "</div>"
      ],
      "text/plain": [
       "   gameid         user  rating\n",
       "0     188     -Johnny-     5.0\n",
       "1     188  -Morphling-     7.0"
      ]
     },
     "execution_count": 7,
     "metadata": {},
     "output_type": "execute_result"
    }
   ],
   "source": [
    "df = pd.read_csv('csv/ratings_reduced.csv')\n",
    "print(f\"In this dataset there are {len(df.gameid.unique())} games, {len(df.user.unique())} users and {len(df)} total votes\")\n",
    "df.head(2)"
   ]
  },
  {
   "cell_type": "code",
   "execution_count": 8,
   "id": "96740f20-e130-4fa4-9ca1-dc4753e7432b",
   "metadata": {},
   "outputs": [
    {
     "data": {
      "text/html": [
       "<div>\n",
       "<style scoped>\n",
       "    .dataframe tbody tr th:only-of-type {\n",
       "        vertical-align: middle;\n",
       "    }\n",
       "\n",
       "    .dataframe tbody tr th {\n",
       "        vertical-align: top;\n",
       "    }\n",
       "\n",
       "    .dataframe thead th {\n",
       "        text-align: right;\n",
       "    }\n",
       "</style>\n",
       "<table border=\"1\" class=\"dataframe\">\n",
       "  <thead>\n",
       "    <tr style=\"text-align: right;\">\n",
       "      <th></th>\n",
       "      <th>gameid</th>\n",
       "      <th>title</th>\n",
       "    </tr>\n",
       "  </thead>\n",
       "  <tbody>\n",
       "    <tr>\n",
       "      <th>0</th>\n",
       "      <td>224517</td>\n",
       "      <td>Brass: Birmingham</td>\n",
       "    </tr>\n",
       "    <tr>\n",
       "      <th>1</th>\n",
       "      <td>161936</td>\n",
       "      <td>Pandemic Legacy: Season 1</td>\n",
       "    </tr>\n",
       "  </tbody>\n",
       "</table>\n",
       "</div>"
      ],
      "text/plain": [
       "   gameid                      title\n",
       "0  224517          Brass: Birmingham\n",
       "1  161936  Pandemic Legacy: Season 1"
      ]
     },
     "execution_count": 8,
     "metadata": {},
     "output_type": "execute_result"
    }
   ],
   "source": [
    "# id of the game - title of the game\n",
    "dfnames = pd.read_csv('csv/1000games_complete.csv')[['gameid', 'title']]\n",
    "dfnames.head(2)"
   ]
  },
  {
   "cell_type": "markdown",
   "id": "34ab0779-26e8-468d-b526-df2ea75bddc7",
   "metadata": {},
   "source": [
    "## Collaborative Filtering"
   ]
  },
  {
   "cell_type": "markdown",
   "id": "60f7d113-09d8-4471-8033-407793a2dd38",
   "metadata": {},
   "source": [
    "### Preparation\n",
    "First, Let's create a matrix with a game for each row and a user for each column"
   ]
  },
  {
   "cell_type": "code",
   "execution_count": 9,
   "id": "5f6ab63d-68bd-4b59-9c04-1bdca0e6f245",
   "metadata": {},
   "outputs": [],
   "source": [
    "def transform(df):\n",
    "    \"\"\" \n",
    "    Convert a 'flat' table to a matrix:\n",
    "    rows: games (specifically gameids)\n",
    "    columns: users\n",
    "    Y matrix (#of games X #of users) stores the ratings\n",
    "    R matrix (#of games X #of users) : 1/0. 1 if a user rated a game, 0 otherwise\n",
    "    Ymean - average rating for every game\n",
    "    Ynorm = Y - Ymean  # \n",
    "    \n",
    "    \"\"\"\n",
    "    pivot_df = df.pivot(index='gameid', columns='user', values='rating')\n",
    "    Y = pivot_df.values\n",
    "    R = np.where(np.isnan(Y), 0, 1)  # 1 if a user rated a game, 0 otherwise\n",
    "    Y = np.nan_to_num(Y, nan=0)  # convert to numpy array, nan values change for 0s\n",
    "    \n",
    "    # mean normalization\n",
    "    mask = Y != 0\n",
    "    row_means = np.ma.masked_array(Y, ~mask).mean(axis=1)\n",
    "    Ymean = np.array([row_means]).T\n",
    "    Ynorm = np.where(Y != 0, Y - Ymean, Y)  # only if a user rated a game, otherwise it remains 0\n",
    "    return Y, Ymean, Ynorm, R"
   ]
  },
  {
   "cell_type": "code",
   "execution_count": 10,
   "id": "0e4ee972-707f-4879-a475-6d2860e9a805",
   "metadata": {},
   "outputs": [],
   "source": [
    "# Creating matricies\n",
    "Y, Ymean, Ynorm, R = transform(df)"
   ]
  },
  {
   "cell_type": "code",
   "execution_count": 11,
   "id": "6b596627-d1a9-487e-b2c3-a71a5387f406",
   "metadata": {},
   "outputs": [
    {
     "data": {
      "text/plain": [
       "array([[7.37714084],\n",
       "       [8.14358174],\n",
       "       [7.13519132],\n",
       "       [8.01598796],\n",
       "       [8.04946373]])"
      ]
     },
     "execution_count": 11,
     "metadata": {},
     "output_type": "execute_result"
    }
   ],
   "source": [
    "# average rating for the first 5 games in our matrix (not the best games)\n",
    "Ymean[:5]"
   ]
  },
  {
   "cell_type": "markdown",
   "id": "002a0d4e-0531-472d-9057-89d3a6883625",
   "metadata": {},
   "source": [
    "### Cost Function\n"
   ]
  },
  {
   "cell_type": "code",
   "execution_count": 12,
   "id": "ecdae3ff-6495-44f4-92ad-c98e25c7476f",
   "metadata": {},
   "outputs": [],
   "source": [
    "def cost_func(X, W, b, Y, R, lambda_):\n",
    "    \"\"\"\n",
    "      Returns the cost\n",
    "    \n",
    "      X       : matrix of game features\n",
    "      W       : matrix of user parameters\n",
    "      b       : vector of user parameters\n",
    "      Y       : matrix of user ratings of games\n",
    "      R       : 1/0 matrix, 1 if the game rated by user, 0 otherwise\n",
    "      lambda_ : regularization parameter\n",
    "\n",
    "    \"\"\"\n",
    "    j = (tf.linalg.matmul(X, tf.transpose(W)) + b - Y) * R\n",
    "    J = 0.5 * tf.reduce_sum(j**2) + (lambda_/2) * (tf.reduce_sum(X**2) + tf.reduce_sum(W**2))\n",
    "    return J"
   ]
  },
  {
   "cell_type": "markdown",
   "id": "2bd4273e-3edb-4cf0-b678-644da0b98b1b",
   "metadata": {},
   "source": [
    "### Initializing the parameters \n",
    "W, X, b"
   ]
  },
  {
   "cell_type": "code",
   "execution_count": 13,
   "id": "449c59be-b426-4665-a1f1-0e9eab4508dc",
   "metadata": {},
   "outputs": [
    {
     "name": "stdout",
     "output_type": "stream",
     "text": [
      "# of games: 554, # of users: 148308\n"
     ]
    }
   ],
   "source": [
    "num_games, num_users = Y.shape  # number of games, number of users \n",
    "print(f\"# of games: {num_games}, # of users: {num_users}\")\n",
    "num_features = 100\n",
    "\n",
    "# Set Initial Parameters (W, X), use tf.Variable to track these variables\n",
    "tf.random.set_seed(2604) # for consistent results\n",
    "W = tf.Variable(tf.random.normal((num_users,  num_features),dtype=tf.float64),  name='W')\n",
    "X = tf.Variable(tf.random.normal((num_games,  num_features),dtype=tf.float64),  name='X')\n",
    "b = tf.Variable(tf.random.normal((1,          num_users),   dtype=tf.float64),  name='b')\n",
    "\n",
    "# Instantiate an optimizer\n",
    "optimizer = keras.optimizers.Adam(learning_rate=0.1)"
   ]
  },
  {
   "cell_type": "markdown",
   "id": "af2cb307-6c9f-4fe2-b668-9b595088edea",
   "metadata": {},
   "source": [
    "### Training the Model\n",
    "Let's train *collaborative filtering model* to learn **X, W, b**,  using TensorFlow"
   ]
  },
  {
   "cell_type": "code",
   "execution_count": 17,
   "id": "90849671-9b50-43a0-8c1a-5a595f770d23",
   "metadata": {},
   "outputs": [
    {
     "name": "stderr",
     "output_type": "stream",
     "text": [
      "  0%|          | 1/1000 [00:16<4:29:52, 16.21s/it]"
     ]
    },
    {
     "name": "stdout",
     "output_type": "stream",
     "text": [
      "Training loss at iteration 0: 6,567,081\n"
     ]
    },
    {
     "name": "stderr",
     "output_type": "stream",
     "text": [
      "  1%|          | 11/1000 [03:32<5:09:55, 18.80s/it]"
     ]
    },
    {
     "name": "stdout",
     "output_type": "stream",
     "text": [
      "Training loss at iteration 10: 5,144,078\n"
     ]
    },
    {
     "name": "stderr",
     "output_type": "stream",
     "text": [
      "  2%|▏         | 21/1000 [06:14<4:29:50, 16.54s/it]"
     ]
    },
    {
     "name": "stdout",
     "output_type": "stream",
     "text": [
      "Training loss at iteration 20: 4,113,807\n"
     ]
    },
    {
     "name": "stderr",
     "output_type": "stream",
     "text": [
      "  3%|▎         | 31/1000 [08:59<4:12:15, 15.62s/it]"
     ]
    },
    {
     "name": "stdout",
     "output_type": "stream",
     "text": [
      "Training loss at iteration 30: 3,326,404\n"
     ]
    },
    {
     "name": "stderr",
     "output_type": "stream",
     "text": [
      "  4%|▍         | 41/1000 [11:42<4:19:47, 16.25s/it]"
     ]
    },
    {
     "name": "stdout",
     "output_type": "stream",
     "text": [
      "Training loss at iteration 40: 2,727,668\n"
     ]
    },
    {
     "name": "stderr",
     "output_type": "stream",
     "text": [
      "  5%|▌         | 51/1000 [14:37<4:37:42, 17.56s/it]"
     ]
    },
    {
     "name": "stdout",
     "output_type": "stream",
     "text": [
      "Training loss at iteration 50: 2,266,972\n"
     ]
    },
    {
     "name": "stderr",
     "output_type": "stream",
     "text": [
      "  6%|▌         | 61/1000 [17:19<4:23:16, 16.82s/it]"
     ]
    },
    {
     "name": "stdout",
     "output_type": "stream",
     "text": [
      "Training loss at iteration 60: 1,907,028\n"
     ]
    },
    {
     "name": "stderr",
     "output_type": "stream",
     "text": [
      "  7%|▋         | 71/1000 [19:56<4:02:47, 15.68s/it]"
     ]
    },
    {
     "name": "stdout",
     "output_type": "stream",
     "text": [
      "Training loss at iteration 70: 1,622,655\n"
     ]
    },
    {
     "name": "stderr",
     "output_type": "stream",
     "text": [
      "  8%|▊         | 81/1000 [22:46<4:17:43, 16.83s/it]"
     ]
    },
    {
     "name": "stdout",
     "output_type": "stream",
     "text": [
      "Training loss at iteration 80: 1,395,846\n"
     ]
    },
    {
     "name": "stderr",
     "output_type": "stream",
     "text": [
      "  9%|▉         | 91/1000 [25:21<4:00:02, 15.84s/it]"
     ]
    },
    {
     "name": "stdout",
     "output_type": "stream",
     "text": [
      "Training loss at iteration 90: 1,213,086\n"
     ]
    },
    {
     "name": "stderr",
     "output_type": "stream",
     "text": [
      " 10%|█         | 101/1000 [27:57<3:48:53, 15.28s/it]"
     ]
    },
    {
     "name": "stdout",
     "output_type": "stream",
     "text": [
      "Training loss at iteration 100: 1,064,159\n"
     ]
    },
    {
     "name": "stderr",
     "output_type": "stream",
     "text": [
      " 11%|█         | 111/1000 [30:44<4:16:12, 17.29s/it]"
     ]
    },
    {
     "name": "stdout",
     "output_type": "stream",
     "text": [
      "Training loss at iteration 110: 941,447\n"
     ]
    },
    {
     "name": "stderr",
     "output_type": "stream",
     "text": [
      " 12%|█▏        | 121/1000 [33:33<4:03:29, 16.62s/it]"
     ]
    },
    {
     "name": "stdout",
     "output_type": "stream",
     "text": [
      "Training loss at iteration 120: 839,333\n"
     ]
    },
    {
     "name": "stderr",
     "output_type": "stream",
     "text": [
      " 13%|█▎        | 131/1000 [36:21<4:01:59, 16.71s/it]"
     ]
    },
    {
     "name": "stdout",
     "output_type": "stream",
     "text": [
      "Training loss at iteration 130: 753,668\n"
     ]
    },
    {
     "name": "stderr",
     "output_type": "stream",
     "text": [
      " 14%|█▍        | 141/1000 [39:18<3:59:50, 16.75s/it]"
     ]
    },
    {
     "name": "stdout",
     "output_type": "stream",
     "text": [
      "Training loss at iteration 140: 681,352\n"
     ]
    },
    {
     "name": "stderr",
     "output_type": "stream",
     "text": [
      " 15%|█▌        | 151/1000 [42:21<3:57:05, 16.76s/it]"
     ]
    },
    {
     "name": "stdout",
     "output_type": "stream",
     "text": [
      "Training loss at iteration 150: 620,013\n"
     ]
    },
    {
     "name": "stderr",
     "output_type": "stream",
     "text": [
      " 16%|█▌        | 161/1000 [45:23<4:02:32, 17.35s/it]"
     ]
    },
    {
     "name": "stdout",
     "output_type": "stream",
     "text": [
      "Training loss at iteration 160: 567,797\n"
     ]
    },
    {
     "name": "stderr",
     "output_type": "stream",
     "text": [
      " 17%|█▋        | 171/1000 [48:21<3:58:09, 17.24s/it]"
     ]
    },
    {
     "name": "stdout",
     "output_type": "stream",
     "text": [
      "Training loss at iteration 170: 523,224\n"
     ]
    },
    {
     "name": "stderr",
     "output_type": "stream",
     "text": [
      " 18%|█▊        | 181/1000 [51:12<3:38:50, 16.03s/it]"
     ]
    },
    {
     "name": "stdout",
     "output_type": "stream",
     "text": [
      "Training loss at iteration 180: 485,088\n"
     ]
    },
    {
     "name": "stderr",
     "output_type": "stream",
     "text": [
      " 19%|█▉        | 191/1000 [53:55<3:49:59, 17.06s/it]"
     ]
    },
    {
     "name": "stdout",
     "output_type": "stream",
     "text": [
      "Training loss at iteration 190: 452,395\n"
     ]
    },
    {
     "name": "stderr",
     "output_type": "stream",
     "text": [
      " 20%|██        | 201/1000 [56:44<3:27:49, 15.61s/it]"
     ]
    },
    {
     "name": "stdout",
     "output_type": "stream",
     "text": [
      "Training loss at iteration 200: 424,311\n"
     ]
    },
    {
     "name": "stderr",
     "output_type": "stream",
     "text": [
      " 21%|██        | 211/1000 [59:46<4:02:08, 18.41s/it]"
     ]
    },
    {
     "name": "stdout",
     "output_type": "stream",
     "text": [
      "Training loss at iteration 210: 400,131\n"
     ]
    },
    {
     "name": "stderr",
     "output_type": "stream",
     "text": [
      " 22%|██▏       | 221/1000 [1:02:46<3:49:06, 17.65s/it]"
     ]
    },
    {
     "name": "stdout",
     "output_type": "stream",
     "text": [
      "Training loss at iteration 220: 379,254\n"
     ]
    },
    {
     "name": "stderr",
     "output_type": "stream",
     "text": [
      " 23%|██▎       | 231/1000 [1:05:44<3:47:48, 17.77s/it]"
     ]
    },
    {
     "name": "stdout",
     "output_type": "stream",
     "text": [
      "Training loss at iteration 230: 361,165\n"
     ]
    },
    {
     "name": "stderr",
     "output_type": "stream",
     "text": [
      " 24%|██▍       | 241/1000 [1:08:34<3:35:21, 17.02s/it]"
     ]
    },
    {
     "name": "stdout",
     "output_type": "stream",
     "text": [
      "Training loss at iteration 240: 345,431\n"
     ]
    },
    {
     "name": "stderr",
     "output_type": "stream",
     "text": [
      " 25%|██▌       | 251/1000 [1:11:34<3:47:29, 18.22s/it]"
     ]
    },
    {
     "name": "stdout",
     "output_type": "stream",
     "text": [
      "Training loss at iteration 250: 331,683\n"
     ]
    },
    {
     "name": "stderr",
     "output_type": "stream",
     "text": [
      " 26%|██▌       | 261/1000 [1:14:23<3:18:34, 16.12s/it]"
     ]
    },
    {
     "name": "stdout",
     "output_type": "stream",
     "text": [
      "Training loss at iteration 260: 319,613\n"
     ]
    },
    {
     "name": "stderr",
     "output_type": "stream",
     "text": [
      " 27%|██▋       | 271/1000 [1:17:22<3:35:27, 17.73s/it]"
     ]
    },
    {
     "name": "stdout",
     "output_type": "stream",
     "text": [
      "Training loss at iteration 270: 308,963\n"
     ]
    },
    {
     "name": "stderr",
     "output_type": "stream",
     "text": [
      " 28%|██▊       | 281/1000 [1:20:17<3:35:07, 17.95s/it]"
     ]
    },
    {
     "name": "stdout",
     "output_type": "stream",
     "text": [
      "Training loss at iteration 280: 299,522\n"
     ]
    },
    {
     "name": "stderr",
     "output_type": "stream",
     "text": [
      " 29%|██▉       | 291/1000 [1:23:08<3:24:19, 17.29s/it]"
     ]
    },
    {
     "name": "stdout",
     "output_type": "stream",
     "text": [
      "Training loss at iteration 290: 291,110\n"
     ]
    },
    {
     "name": "stderr",
     "output_type": "stream",
     "text": [
      " 30%|███       | 301/1000 [1:26:11<3:33:20, 18.31s/it]"
     ]
    },
    {
     "name": "stdout",
     "output_type": "stream",
     "text": [
      "Training loss at iteration 300: 283,582\n"
     ]
    },
    {
     "name": "stderr",
     "output_type": "stream",
     "text": [
      " 31%|███       | 311/1000 [1:29:05<3:10:18, 16.57s/it]"
     ]
    },
    {
     "name": "stdout",
     "output_type": "stream",
     "text": [
      "Training loss at iteration 310: 276,815\n"
     ]
    },
    {
     "name": "stderr",
     "output_type": "stream",
     "text": [
      " 32%|███▏      | 321/1000 [1:31:58<3:19:16, 17.61s/it]"
     ]
    },
    {
     "name": "stdout",
     "output_type": "stream",
     "text": [
      "Training loss at iteration 320: 270,707\n"
     ]
    },
    {
     "name": "stderr",
     "output_type": "stream",
     "text": [
      " 33%|███▎      | 331/1000 [1:34:57<3:15:14, 17.51s/it]"
     ]
    },
    {
     "name": "stdout",
     "output_type": "stream",
     "text": [
      "Training loss at iteration 330: 265,173\n"
     ]
    },
    {
     "name": "stderr",
     "output_type": "stream",
     "text": [
      " 34%|███▍      | 341/1000 [1:37:49<3:08:45, 17.19s/it]"
     ]
    },
    {
     "name": "stdout",
     "output_type": "stream",
     "text": [
      "Training loss at iteration 340: 260,140\n"
     ]
    },
    {
     "name": "stderr",
     "output_type": "stream",
     "text": [
      " 35%|███▌      | 351/1000 [1:40:45<3:14:39, 18.00s/it]"
     ]
    },
    {
     "name": "stdout",
     "output_type": "stream",
     "text": [
      "Training loss at iteration 350: 255,547\n"
     ]
    },
    {
     "name": "stderr",
     "output_type": "stream",
     "text": [
      " 36%|███▌      | 361/1000 [1:43:54<3:24:27, 19.20s/it]"
     ]
    },
    {
     "name": "stdout",
     "output_type": "stream",
     "text": [
      "Training loss at iteration 360: 251,342\n"
     ]
    },
    {
     "name": "stderr",
     "output_type": "stream",
     "text": [
      " 37%|███▋      | 371/1000 [1:46:51<3:12:29, 18.36s/it]"
     ]
    },
    {
     "name": "stdout",
     "output_type": "stream",
     "text": [
      "Training loss at iteration 370: 247,479\n"
     ]
    },
    {
     "name": "stderr",
     "output_type": "stream",
     "text": [
      " 38%|███▊      | 381/1000 [1:49:35<2:53:46, 16.84s/it]"
     ]
    },
    {
     "name": "stdout",
     "output_type": "stream",
     "text": [
      "Training loss at iteration 380: 243,921\n"
     ]
    },
    {
     "name": "stderr",
     "output_type": "stream",
     "text": [
      " 39%|███▉      | 391/1000 [1:52:33<3:02:27, 17.98s/it]"
     ]
    },
    {
     "name": "stdout",
     "output_type": "stream",
     "text": [
      "Training loss at iteration 390: 240,634\n"
     ]
    },
    {
     "name": "stderr",
     "output_type": "stream",
     "text": [
      " 40%|████      | 401/1000 [1:55:35<3:07:13, 18.75s/it]"
     ]
    },
    {
     "name": "stdout",
     "output_type": "stream",
     "text": [
      "Training loss at iteration 400: 237,590\n"
     ]
    },
    {
     "name": "stderr",
     "output_type": "stream",
     "text": [
      " 41%|████      | 411/1000 [1:58:34<2:58:31, 18.19s/it]"
     ]
    },
    {
     "name": "stdout",
     "output_type": "stream",
     "text": [
      "Training loss at iteration 410: 234,765\n"
     ]
    },
    {
     "name": "stderr",
     "output_type": "stream",
     "text": [
      " 42%|████▏     | 421/1000 [2:01:39<2:59:39, 18.62s/it]"
     ]
    },
    {
     "name": "stdout",
     "output_type": "stream",
     "text": [
      "Training loss at iteration 420: 232,136\n"
     ]
    },
    {
     "name": "stderr",
     "output_type": "stream",
     "text": [
      " 43%|████▎     | 431/1000 [2:04:33<2:38:04, 16.67s/it]"
     ]
    },
    {
     "name": "stdout",
     "output_type": "stream",
     "text": [
      "Training loss at iteration 430: 229,687\n"
     ]
    },
    {
     "name": "stderr",
     "output_type": "stream",
     "text": [
      " 44%|████▍     | 441/1000 [2:07:28<2:47:40, 18.00s/it]"
     ]
    },
    {
     "name": "stdout",
     "output_type": "stream",
     "text": [
      "Training loss at iteration 440: 227,395\n"
     ]
    },
    {
     "name": "stderr",
     "output_type": "stream",
     "text": [
      " 45%|████▌     | 451/1000 [2:10:25<2:46:29, 18.20s/it]"
     ]
    },
    {
     "name": "stdout",
     "output_type": "stream",
     "text": [
      "Training loss at iteration 450: 225,251\n"
     ]
    },
    {
     "name": "stderr",
     "output_type": "stream",
     "text": [
      " 46%|████▌     | 461/1000 [2:13:30<2:47:53, 18.69s/it]"
     ]
    },
    {
     "name": "stdout",
     "output_type": "stream",
     "text": [
      "Training loss at iteration 460: 223,241\n"
     ]
    },
    {
     "name": "stderr",
     "output_type": "stream",
     "text": [
      " 47%|████▋     | 471/1000 [2:16:23<2:40:58, 18.26s/it]"
     ]
    },
    {
     "name": "stdout",
     "output_type": "stream",
     "text": [
      "Training loss at iteration 470: 221,353\n"
     ]
    },
    {
     "name": "stderr",
     "output_type": "stream",
     "text": [
      " 48%|████▊     | 481/1000 [2:19:31<2:47:27, 19.36s/it]"
     ]
    },
    {
     "name": "stdout",
     "output_type": "stream",
     "text": [
      "Training loss at iteration 480: 219,574\n"
     ]
    },
    {
     "name": "stderr",
     "output_type": "stream",
     "text": [
      " 49%|████▉     | 491/1000 [2:22:27<2:26:56, 17.32s/it]"
     ]
    },
    {
     "name": "stdout",
     "output_type": "stream",
     "text": [
      "Training loss at iteration 490: 217,900\n"
     ]
    },
    {
     "name": "stderr",
     "output_type": "stream",
     "text": [
      " 50%|█████     | 501/1000 [2:25:21<2:28:46, 17.89s/it]"
     ]
    },
    {
     "name": "stdout",
     "output_type": "stream",
     "text": [
      "Training loss at iteration 500: 216,324\n"
     ]
    },
    {
     "name": "stderr",
     "output_type": "stream",
     "text": [
      " 51%|█████     | 511/1000 [2:28:16<2:23:03, 17.55s/it]"
     ]
    },
    {
     "name": "stdout",
     "output_type": "stream",
     "text": [
      "Training loss at iteration 510: 214,840\n"
     ]
    },
    {
     "name": "stderr",
     "output_type": "stream",
     "text": [
      " 52%|█████▏    | 521/1000 [2:31:07<2:18:17, 17.32s/it]"
     ]
    },
    {
     "name": "stdout",
     "output_type": "stream",
     "text": [
      "Training loss at iteration 520: 213,424\n"
     ]
    },
    {
     "name": "stderr",
     "output_type": "stream",
     "text": [
      " 53%|█████▎    | 531/1000 [2:34:05<2:18:21, 17.70s/it]"
     ]
    },
    {
     "name": "stdout",
     "output_type": "stream",
     "text": [
      "Training loss at iteration 530: 212,088\n"
     ]
    },
    {
     "name": "stderr",
     "output_type": "stream",
     "text": [
      " 54%|█████▍    | 541/1000 [2:36:55<2:07:09, 16.62s/it]"
     ]
    },
    {
     "name": "stdout",
     "output_type": "stream",
     "text": [
      "Training loss at iteration 540: 210,816\n"
     ]
    },
    {
     "name": "stderr",
     "output_type": "stream",
     "text": [
      " 55%|█████▌    | 551/1000 [2:39:51<2:16:44, 18.27s/it]"
     ]
    },
    {
     "name": "stdout",
     "output_type": "stream",
     "text": [
      "Training loss at iteration 550: 209,613\n"
     ]
    },
    {
     "name": "stderr",
     "output_type": "stream",
     "text": [
      " 56%|█████▌    | 561/1000 [2:43:12<2:27:55, 20.22s/it]"
     ]
    },
    {
     "name": "stdout",
     "output_type": "stream",
     "text": [
      "Training loss at iteration 560: 208,456\n"
     ]
    },
    {
     "name": "stderr",
     "output_type": "stream",
     "text": [
      " 57%|█████▋    | 571/1000 [2:46:16<2:09:45, 18.15s/it]"
     ]
    },
    {
     "name": "stdout",
     "output_type": "stream",
     "text": [
      "Training loss at iteration 570: 207,373\n"
     ]
    },
    {
     "name": "stderr",
     "output_type": "stream",
     "text": [
      " 58%|█████▊    | 581/1000 [2:49:19<2:09:49, 18.59s/it]"
     ]
    },
    {
     "name": "stdout",
     "output_type": "stream",
     "text": [
      "Training loss at iteration 580: 206,333\n"
     ]
    },
    {
     "name": "stderr",
     "output_type": "stream",
     "text": [
      " 59%|█████▉    | 591/1000 [2:52:20<2:07:32, 18.71s/it]"
     ]
    },
    {
     "name": "stdout",
     "output_type": "stream",
     "text": [
      "Training loss at iteration 590: 205,349\n"
     ]
    },
    {
     "name": "stderr",
     "output_type": "stream",
     "text": [
      " 60%|██████    | 601/1000 [2:55:31<2:04:26, 18.71s/it]"
     ]
    },
    {
     "name": "stdout",
     "output_type": "stream",
     "text": [
      "Training loss at iteration 600: 204,416\n"
     ]
    },
    {
     "name": "stderr",
     "output_type": "stream",
     "text": [
      " 61%|██████    | 611/1000 [2:58:36<1:59:11, 18.39s/it]"
     ]
    },
    {
     "name": "stdout",
     "output_type": "stream",
     "text": [
      "Training loss at iteration 610: 203,529\n"
     ]
    },
    {
     "name": "stderr",
     "output_type": "stream",
     "text": [
      " 62%|██████▏   | 621/1000 [3:01:42<1:54:25, 18.11s/it]"
     ]
    },
    {
     "name": "stdout",
     "output_type": "stream",
     "text": [
      "Training loss at iteration 620: 202,656\n"
     ]
    },
    {
     "name": "stderr",
     "output_type": "stream",
     "text": [
      " 63%|██████▎   | 631/1000 [3:04:41<1:50:16, 17.93s/it]"
     ]
    },
    {
     "name": "stdout",
     "output_type": "stream",
     "text": [
      "Training loss at iteration 630: 201,826\n"
     ]
    },
    {
     "name": "stderr",
     "output_type": "stream",
     "text": [
      " 64%|██████▍   | 641/1000 [3:07:31<1:42:19, 17.10s/it]"
     ]
    },
    {
     "name": "stdout",
     "output_type": "stream",
     "text": [
      "Training loss at iteration 640: 201,045\n"
     ]
    },
    {
     "name": "stderr",
     "output_type": "stream",
     "text": [
      " 65%|██████▌   | 651/1000 [3:10:27<1:46:35, 18.33s/it]"
     ]
    },
    {
     "name": "stdout",
     "output_type": "stream",
     "text": [
      "Training loss at iteration 650: 200,297\n"
     ]
    },
    {
     "name": "stderr",
     "output_type": "stream",
     "text": [
      " 66%|██████▌   | 661/1000 [3:13:32<1:42:53, 18.21s/it]"
     ]
    },
    {
     "name": "stdout",
     "output_type": "stream",
     "text": [
      "Training loss at iteration 660: 199,572\n"
     ]
    },
    {
     "name": "stderr",
     "output_type": "stream",
     "text": [
      " 67%|██████▋   | 671/1000 [3:16:18<1:27:13, 15.91s/it]"
     ]
    },
    {
     "name": "stdout",
     "output_type": "stream",
     "text": [
      "Training loss at iteration 670: 198,888\n"
     ]
    },
    {
     "name": "stderr",
     "output_type": "stream",
     "text": [
      " 68%|██████▊   | 681/1000 [3:19:23<1:36:45, 18.20s/it]"
     ]
    },
    {
     "name": "stdout",
     "output_type": "stream",
     "text": [
      "Training loss at iteration 680: 198,235\n"
     ]
    },
    {
     "name": "stderr",
     "output_type": "stream",
     "text": [
      " 69%|██████▉   | 691/1000 [3:22:28<1:35:59, 18.64s/it]"
     ]
    },
    {
     "name": "stdout",
     "output_type": "stream",
     "text": [
      "Training loss at iteration 690: 197,594\n"
     ]
    },
    {
     "name": "stderr",
     "output_type": "stream",
     "text": [
      " 70%|███████   | 701/1000 [3:25:26<1:26:04, 17.27s/it]"
     ]
    },
    {
     "name": "stdout",
     "output_type": "stream",
     "text": [
      "Training loss at iteration 700: 196,981\n"
     ]
    },
    {
     "name": "stderr",
     "output_type": "stream",
     "text": [
      " 71%|███████   | 711/1000 [3:28:23<1:28:25, 18.36s/it]"
     ]
    },
    {
     "name": "stdout",
     "output_type": "stream",
     "text": [
      "Training loss at iteration 710: 196,428\n"
     ]
    },
    {
     "name": "stderr",
     "output_type": "stream",
     "text": [
      " 72%|███████▏  | 721/1000 [3:31:23<1:24:52, 18.25s/it]"
     ]
    },
    {
     "name": "stdout",
     "output_type": "stream",
     "text": [
      "Training loss at iteration 720: 195,839\n"
     ]
    },
    {
     "name": "stderr",
     "output_type": "stream",
     "text": [
      " 73%|███████▎  | 731/1000 [3:34:26<1:20:45, 18.01s/it]"
     ]
    },
    {
     "name": "stdout",
     "output_type": "stream",
     "text": [
      "Training loss at iteration 730: 195,294\n"
     ]
    },
    {
     "name": "stderr",
     "output_type": "stream",
     "text": [
      " 74%|███████▍  | 741/1000 [3:37:22<1:16:14, 17.66s/it]"
     ]
    },
    {
     "name": "stdout",
     "output_type": "stream",
     "text": [
      "Training loss at iteration 740: 194,777\n"
     ]
    },
    {
     "name": "stderr",
     "output_type": "stream",
     "text": [
      " 75%|███████▌  | 751/1000 [3:40:20<1:15:13, 18.13s/it]"
     ]
    },
    {
     "name": "stdout",
     "output_type": "stream",
     "text": [
      "Training loss at iteration 750: 194,255\n"
     ]
    },
    {
     "name": "stderr",
     "output_type": "stream",
     "text": [
      " 76%|███████▌  | 761/1000 [3:43:31<1:13:45, 18.52s/it]"
     ]
    },
    {
     "name": "stdout",
     "output_type": "stream",
     "text": [
      "Training loss at iteration 760: 193,777\n"
     ]
    },
    {
     "name": "stderr",
     "output_type": "stream",
     "text": [
      " 77%|███████▋  | 771/1000 [3:46:50<1:15:56, 19.90s/it]"
     ]
    },
    {
     "name": "stdout",
     "output_type": "stream",
     "text": [
      "Training loss at iteration 770: 193,343\n"
     ]
    },
    {
     "name": "stderr",
     "output_type": "stream",
     "text": [
      " 78%|███████▊  | 781/1000 [3:49:54<1:08:59, 18.90s/it]"
     ]
    },
    {
     "name": "stdout",
     "output_type": "stream",
     "text": [
      "Training loss at iteration 780: 192,918\n"
     ]
    },
    {
     "name": "stderr",
     "output_type": "stream",
     "text": [
      " 79%|███████▉  | 791/1000 [3:53:03<1:06:01, 18.95s/it]"
     ]
    },
    {
     "name": "stdout",
     "output_type": "stream",
     "text": [
      "Training loss at iteration 790: 192,469\n"
     ]
    },
    {
     "name": "stderr",
     "output_type": "stream",
     "text": [
      " 80%|████████  | 801/1000 [3:56:12<1:02:36, 18.88s/it]"
     ]
    },
    {
     "name": "stdout",
     "output_type": "stream",
     "text": [
      "Training loss at iteration 800: 192,036\n"
     ]
    },
    {
     "name": "stderr",
     "output_type": "stream",
     "text": [
      " 81%|████████  | 811/1000 [3:59:14<57:09, 18.14s/it]  "
     ]
    },
    {
     "name": "stdout",
     "output_type": "stream",
     "text": [
      "Training loss at iteration 810: 191,645\n"
     ]
    },
    {
     "name": "stderr",
     "output_type": "stream",
     "text": [
      " 82%|████████▏ | 821/1000 [4:01:55<45:16, 15.18s/it]"
     ]
    },
    {
     "name": "stdout",
     "output_type": "stream",
     "text": [
      "Training loss at iteration 820: 191,261\n"
     ]
    },
    {
     "name": "stderr",
     "output_type": "stream",
     "text": [
      " 83%|████████▎ | 831/1000 [4:04:44<46:12, 16.41s/it]"
     ]
    },
    {
     "name": "stdout",
     "output_type": "stream",
     "text": [
      "Training loss at iteration 830: 190,917\n"
     ]
    },
    {
     "name": "stderr",
     "output_type": "stream",
     "text": [
      " 84%|████████▍ | 841/1000 [4:07:44<48:44, 18.39s/it]"
     ]
    },
    {
     "name": "stdout",
     "output_type": "stream",
     "text": [
      "Training loss at iteration 840: 190,539\n"
     ]
    },
    {
     "name": "stderr",
     "output_type": "stream",
     "text": [
      " 85%|████████▌ | 851/1000 [4:10:40<42:42, 17.20s/it]"
     ]
    },
    {
     "name": "stdout",
     "output_type": "stream",
     "text": [
      "Training loss at iteration 850: 190,193\n"
     ]
    },
    {
     "name": "stderr",
     "output_type": "stream",
     "text": [
      " 86%|████████▌ | 861/1000 [4:13:41<43:21, 18.72s/it]"
     ]
    },
    {
     "name": "stdout",
     "output_type": "stream",
     "text": [
      "Training loss at iteration 860: 189,835\n"
     ]
    },
    {
     "name": "stderr",
     "output_type": "stream",
     "text": [
      " 87%|████████▋ | 871/1000 [4:16:41<39:39, 18.45s/it]"
     ]
    },
    {
     "name": "stdout",
     "output_type": "stream",
     "text": [
      "Training loss at iteration 870: 189,540\n"
     ]
    },
    {
     "name": "stderr",
     "output_type": "stream",
     "text": [
      " 88%|████████▊ | 881/1000 [4:19:58<37:51, 19.09s/it]"
     ]
    },
    {
     "name": "stdout",
     "output_type": "stream",
     "text": [
      "Training loss at iteration 880: 189,240\n"
     ]
    },
    {
     "name": "stderr",
     "output_type": "stream",
     "text": [
      " 89%|████████▉ | 891/1000 [4:22:46<30:06, 16.58s/it]"
     ]
    },
    {
     "name": "stdout",
     "output_type": "stream",
     "text": [
      "Training loss at iteration 890: 188,919\n"
     ]
    },
    {
     "name": "stderr",
     "output_type": "stream",
     "text": [
      " 90%|█████████ | 901/1000 [4:25:42<29:12, 17.70s/it]"
     ]
    },
    {
     "name": "stdout",
     "output_type": "stream",
     "text": [
      "Training loss at iteration 900: 188,651\n"
     ]
    },
    {
     "name": "stderr",
     "output_type": "stream",
     "text": [
      " 91%|█████████ | 911/1000 [4:28:29<25:59, 17.53s/it]"
     ]
    },
    {
     "name": "stdout",
     "output_type": "stream",
     "text": [
      "Training loss at iteration 910: 188,317\n"
     ]
    },
    {
     "name": "stderr",
     "output_type": "stream",
     "text": [
      " 92%|█████████▏| 921/1000 [4:31:26<23:47, 18.07s/it]"
     ]
    },
    {
     "name": "stdout",
     "output_type": "stream",
     "text": [
      "Training loss at iteration 920: 188,065\n"
     ]
    },
    {
     "name": "stderr",
     "output_type": "stream",
     "text": [
      " 93%|█████████▎| 931/1000 [4:34:20<19:34, 17.02s/it]"
     ]
    },
    {
     "name": "stdout",
     "output_type": "stream",
     "text": [
      "Training loss at iteration 930: 187,835\n"
     ]
    },
    {
     "name": "stderr",
     "output_type": "stream",
     "text": [
      " 94%|█████████▍| 941/1000 [4:37:17<17:49, 18.12s/it]"
     ]
    },
    {
     "name": "stdout",
     "output_type": "stream",
     "text": [
      "Training loss at iteration 940: 187,561\n"
     ]
    },
    {
     "name": "stderr",
     "output_type": "stream",
     "text": [
      " 95%|█████████▌| 951/1000 [4:40:28<16:06, 19.72s/it]"
     ]
    },
    {
     "name": "stdout",
     "output_type": "stream",
     "text": [
      "Training loss at iteration 950: 187,331\n"
     ]
    },
    {
     "name": "stderr",
     "output_type": "stream",
     "text": [
      " 96%|█████████▌| 961/1000 [4:43:33<11:43, 18.04s/it]"
     ]
    },
    {
     "name": "stdout",
     "output_type": "stream",
     "text": [
      "Training loss at iteration 960: 187,070\n"
     ]
    },
    {
     "name": "stderr",
     "output_type": "stream",
     "text": [
      " 97%|█████████▋| 971/1000 [4:46:36<08:48, 18.24s/it]"
     ]
    },
    {
     "name": "stdout",
     "output_type": "stream",
     "text": [
      "Training loss at iteration 970: 186,859\n"
     ]
    },
    {
     "name": "stderr",
     "output_type": "stream",
     "text": [
      " 98%|█████████▊| 981/1000 [4:49:30<05:16, 16.65s/it]"
     ]
    },
    {
     "name": "stdout",
     "output_type": "stream",
     "text": [
      "Training loss at iteration 980: 186,586\n"
     ]
    },
    {
     "name": "stderr",
     "output_type": "stream",
     "text": [
      " 99%|█████████▉| 991/1000 [4:52:28<02:42, 18.09s/it]"
     ]
    },
    {
     "name": "stdout",
     "output_type": "stream",
     "text": [
      "Training loss at iteration 990: 186,428\n"
     ]
    },
    {
     "name": "stderr",
     "output_type": "stream",
     "text": [
      "100%|██████████| 1000/1000 [4:55:14<00:00, 17.71s/it]\n"
     ]
    }
   ],
   "source": [
    "# Attention! My Laptop got hot...\n",
    "iterations = 1000\n",
    "lambda_ = 1\n",
    "for iter in tqdm(range(iterations), total=iterations):\n",
    "    # Use TensorFlow’s GradientTape\n",
    "    # to record the operations used to compute the cost \n",
    "    with tf.GradientTape() as tape:\n",
    "\n",
    "        # Compute the cost (forward pass included in cost)\n",
    "        cost_value = cost_func(X, W, b, Ynorm, R, lambda_)\n",
    "\n",
    "    # Use the gradient tape to automatically retrieve\n",
    "    # the gradients of the trainable variables with respect to the loss\n",
    "    grads = tape.gradient( cost_value, [X,W,b] )\n",
    "\n",
    "    # Run one step of gradient descent by updating\n",
    "    # the value of the variables to minimize the loss.\n",
    "    optimizer.apply_gradients( zip(grads, [X,W,b]) )\n",
    "\n",
    "    # to see the process \n",
    "    if iter % 10 == 0:\n",
    "        print(f\"Training loss at iteration {iter}: {cost_value:,.0f}\")"
   ]
  },
  {
   "cell_type": "markdown",
   "id": "f8ef03dc-439b-4fb1-8dea-52a38b37e748",
   "metadata": {},
   "source": [
    "### Make predictions\n",
    "Now after learning **X, W, b**, we are able to make predictions"
   ]
  },
  {
   "cell_type": "code",
   "execution_count": 18,
   "id": "61b1a14b-cdf7-4bde-b6e6-80d742956715",
   "metadata": {},
   "outputs": [
    {
     "data": {
      "text/plain": [
       "(554, 148308)"
      ]
     },
     "execution_count": 18,
     "metadata": {},
     "output_type": "execute_result"
    }
   ],
   "source": [
    "# Make a prediction using trained X,W and b\n",
    "p = np.matmul(X.numpy(), np.transpose(W.numpy())) + b.numpy()\n",
    "pm = p + Ymean  # prediction matrix\n",
    "pm.shape"
   ]
  },
  {
   "cell_type": "code",
   "execution_count": null,
   "id": "33faf4ac-5e4b-4646-b07f-79e7de4d8497",
   "metadata": {},
   "outputs": [],
   "source": []
  },
  {
   "cell_type": "markdown",
   "id": "b86eb4fb-7a37-4c65-ad40-ad65dbbfeaa4",
   "metadata": {},
   "source": [
    "#### Sandbox\n",
    "it's just for me to practice - predictions for one particular user, and list of his rated games"
   ]
  },
  {
   "cell_type": "code",
   "execution_count": 19,
   "id": "d24a3b10-e7e8-459c-a31a-528582ab9a97",
   "metadata": {},
   "outputs": [],
   "source": [
    "def make_recommendations(prediction_matrix, df, user, number_of_recommendations=9):\n",
    "    \"\"\" Recommendations for a given user \"\"\"\n",
    "    pivot_df = df.pivot(index='gameid', columns='user', values='rating')\n",
    "    \n",
    "    reconstructed_df = pd.DataFrame(prediction_matrix, index=pivot_df.index, columns=pivot_df.columns)\n",
    "    reconstructed_R = pd.DataFrame(R, index=pivot_df.index, columns=pivot_df.columns)\n",
    "    R # 1 or 0 (rated or not)\n",
    "    user_df = pd.concat([reconstructed_df[user], reconstructed_R[user]], axis=1)\n",
    "    user_df.columns = ['rating', 'rated']\n",
    "    user_df_notrated = user_df.query('rated == 0').rating.sort_values(ascending=False)[:number_of_recommendations]\n",
    "    \n",
    "    # rated games\n",
    "    user_df_rated = user_df.query('rated == 1').rating.sort_values(ascending=False)[:]\n",
    "    \n",
    "    # combine with names    \n",
    "    user_df_notrated = pd.merge(user_df_notrated.to_frame(), dfnames, left_index=True, right_on='gameid', how='left')\n",
    "    user_df_notrated = user_df_notrated[['rating', 'gameid', 'title']]\n",
    "    \n",
    "    # add rated games\n",
    "    user_df_rated = pd.merge(user_df_rated.to_frame(), dfnames, left_index=True, right_on='gameid', how='left')\n",
    "    user_df_rated = user_df_rated[['rating', 'gameid', 'title']]\n",
    "    \n",
    "    print(\"Rated games:\")\n",
    "    print(user_df_rated.title)\n",
    "    print(\"And now recommendations:\")\n",
    "    recommendation = {'game':  None,\n",
    "                     'rating': None,\n",
    "                     }\n",
    "    return user_df_notrated"
   ]
  },
  {
   "cell_type": "code",
   "execution_count": 20,
   "id": "fb702c4c-ba59-43f6-84b9-3518007fc16f",
   "metadata": {},
   "outputs": [
    {
     "name": "stdout",
     "output_type": "stream",
     "text": [
      "Rated games:\n",
      "2                                         Gloomhaven\n",
      "90                                        Frosthaven\n",
      "6                       Gloomhaven: Jaws of the Lion\n",
      "0                                  Brass: Birmingham\n",
      "193                                               Go\n",
      "12     Through the Ages: A New Story of Civilization\n",
      "10                                     Spirit Island\n",
      "1                          Pandemic Legacy: Season 1\n",
      "33                                           Barrage\n",
      "30                                          Everdell\n",
      "32                     Viticulture Essential Edition\n",
      "14                               Great Western Trail\n",
      "5                                  Terraforming Mars\n",
      "7                                     Dune: Imperium\n",
      "28                               Lost Ruins of Arnak\n",
      "119                                        Codenames\n",
      "69                                              Azul\n",
      "128                                    Cartographers\n",
      "97                                          Decrypto\n",
      "241             Isle of Skye: From Chieftain to King\n",
      "236                                     Flamme Rouge\n",
      "11                                      Gaia Project\n",
      "98                                           Mombasa\n",
      "59                                Clans of Caledonia\n",
      "403                              Codenames: Pictures\n",
      "24                                          Wingspan\n",
      "461                                     Charterstone\n",
      "82                         The Voyages of Marco Polo\n",
      "68                               Grand Austria Hotel\n",
      "263                                       Kingdomino\n",
      "17                                    7 Wonders Duel\n",
      "767                                         Kanagawa\n",
      "402                                       Dice Forge\n",
      "Name: title, dtype: object\n",
      "And now recommendations:\n"
     ]
    },
    {
     "data": {
      "text/html": [
       "<div>\n",
       "<style scoped>\n",
       "    .dataframe tbody tr th:only-of-type {\n",
       "        vertical-align: middle;\n",
       "    }\n",
       "\n",
       "    .dataframe tbody tr th {\n",
       "        vertical-align: top;\n",
       "    }\n",
       "\n",
       "    .dataframe thead th {\n",
       "        text-align: right;\n",
       "    }\n",
       "</style>\n",
       "<table border=\"1\" class=\"dataframe\">\n",
       "  <thead>\n",
       "    <tr style=\"text-align: right;\">\n",
       "      <th></th>\n",
       "      <th>rating</th>\n",
       "      <th>gameid</th>\n",
       "      <th>title</th>\n",
       "    </tr>\n",
       "  </thead>\n",
       "  <tbody>\n",
       "    <tr>\n",
       "      <th>631</th>\n",
       "      <td>10.115838</td>\n",
       "      <td>242705</td>\n",
       "      <td>Aeon Trespass: Odyssey</td>\n",
       "    </tr>\n",
       "    <tr>\n",
       "      <th>272</th>\n",
       "      <td>9.497493</td>\n",
       "      <td>251661</td>\n",
       "      <td>Oathsworn: Into the Deepwood</td>\n",
       "    </tr>\n",
       "    <tr>\n",
       "      <th>49</th>\n",
       "      <td>9.216685</td>\n",
       "      <td>314040</td>\n",
       "      <td>Pandemic Legacy: Season 0</td>\n",
       "    </tr>\n",
       "    <tr>\n",
       "      <th>88</th>\n",
       "      <td>9.203654</td>\n",
       "      <td>180263</td>\n",
       "      <td>The 7th Continent</td>\n",
       "    </tr>\n",
       "    <tr>\n",
       "      <th>389</th>\n",
       "      <td>9.201968</td>\n",
       "      <td>240980</td>\n",
       "      <td>Blood on the Clocktower</td>\n",
       "    </tr>\n",
       "    <tr>\n",
       "      <th>407</th>\n",
       "      <td>9.125516</td>\n",
       "      <td>170771</td>\n",
       "      <td>Sword &amp; Sorcery</td>\n",
       "    </tr>\n",
       "    <tr>\n",
       "      <th>36</th>\n",
       "      <td>9.113900</td>\n",
       "      <td>175914</td>\n",
       "      <td>Food Chain Magnate</td>\n",
       "    </tr>\n",
       "    <tr>\n",
       "      <th>136</th>\n",
       "      <td>9.112481</td>\n",
       "      <td>271055</td>\n",
       "      <td>Dwellings of Eldervale</td>\n",
       "    </tr>\n",
       "    <tr>\n",
       "      <th>456</th>\n",
       "      <td>9.095228</td>\n",
       "      <td>169427</td>\n",
       "      <td>Middara: Unintentional Malum – Act 1</td>\n",
       "    </tr>\n",
       "  </tbody>\n",
       "</table>\n",
       "</div>"
      ],
      "text/plain": [
       "        rating  gameid                                 title\n",
       "631  10.115838  242705                Aeon Trespass: Odyssey\n",
       "272   9.497493  251661          Oathsworn: Into the Deepwood\n",
       "49    9.216685  314040             Pandemic Legacy: Season 0\n",
       "88    9.203654  180263                     The 7th Continent\n",
       "389   9.201968  240980               Blood on the Clocktower\n",
       "407   9.125516  170771                       Sword & Sorcery\n",
       "36    9.113900  175914                    Food Chain Magnate\n",
       "136   9.112481  271055                Dwellings of Eldervale\n",
       "456   9.095228  169427  Middara: Unintentional Malum – Act 1"
      ]
     },
     "execution_count": 20,
     "metadata": {},
     "output_type": "execute_result"
    }
   ],
   "source": [
    "# rated games by user 'axci' and recommendations below\n",
    "axci = make_recommendations(pm, df, 'axci')\n",
    "axci"
   ]
  },
  {
   "cell_type": "markdown",
   "id": "7bff19e2-f734-4321-b7f0-28465fd058c0",
   "metadata": {},
   "source": [
    "#### Function"
   ]
  },
  {
   "cell_type": "code",
   "execution_count": 21,
   "id": "9b285e4d-56d2-4646-9ff2-fad3f9f7d3da",
   "metadata": {},
   "outputs": [],
   "source": [
    "# function that will create a flat dataframe with user - recommended gameid\n",
    "def create_recommended_games(prediction_matrix, df, number_of_recommendations=10):\n",
    "    \"\"\" \n",
    "    prediction_matrix - our trained matrix\n",
    "    df -  dataframe from csv file ratings_reduced.csv (gameid-user-rating)\n",
    "    \"\"\"\n",
    "    \n",
    "    pivot_df = df.pivot(index='gameid', columns='user', values='rating')  # make a pivot table from the flat table\n",
    "    R = np.where(np.isnan(pivot_df.values), 0, 1)  # 1 if a user rated a game, 0 otherwise\n",
    "    \n",
    "    reconstructed_df = pd.DataFrame(prediction_matrix, index=pivot_df.index, columns=pivot_df.columns)  # convert matrix to df \n",
    "    reconstructed_R = pd.DataFrame(R, index=pivot_df.index, columns=pivot_df.columns)  # convert R to df\n",
    "    \n",
    "    predictions = pd.DataFrame(columns=['prediction_rating', 'rated_bool', 'user'], index=pd.Index([], name='gameid'))  # empty df\n",
    "    counter = 0\n",
    "    for user in reconstructed_df.columns:\n",
    "        user_df = pd.concat([reconstructed_df[user], reconstructed_R[user]], axis=1)\n",
    "        user_df['user'] = user\n",
    "        user_df.columns = ['prediction_rating', 'rated_bool', 'user']\n",
    "        user_df_notrated = user_df.query('rated_bool == 0').sort_values(by='prediction_rating',ascending=False)[:number_of_recommendations]\n",
    "        predictions = pd.concat([predictions, user_df_notrated])\n",
    "        counter += 1\n",
    "        if counter % 10000 == 0:\n",
    "            print(f\"{counter} out of {len(reconstructed_df.columns)} added\")\n",
    "   \n",
    "    predictions['user'].to_csv('csv/rec_games.csv')  # save to csv\n",
    "    return predictions"
   ]
  },
  {
   "cell_type": "code",
   "execution_count": 22,
   "id": "95c753da-106f-42c1-9bbc-1ecd79c8a57f",
   "metadata": {},
   "outputs": [
    {
     "name": "stdout",
     "output_type": "stream",
     "text": [
      "10000 out of 148308 added\n",
      "20000 out of 148308 added\n",
      "30000 out of 148308 added\n",
      "40000 out of 148308 added\n",
      "50000 out of 148308 added\n",
      "60000 out of 148308 added\n",
      "70000 out of 148308 added\n",
      "80000 out of 148308 added\n",
      "90000 out of 148308 added\n",
      "100000 out of 148308 added\n",
      "110000 out of 148308 added\n",
      "120000 out of 148308 added\n",
      "130000 out of 148308 added\n",
      "140000 out of 148308 added\n"
     ]
    }
   ],
   "source": [
    "# Run the function to make predictions for every user\n",
    "predictions = create_recommended_games(pm, df)\n"
   ]
  },
  {
   "cell_type": "code",
   "execution_count": 23,
   "id": "9a2f47a5-c1dd-4a3f-a78a-1b3bce293cfe",
   "metadata": {},
   "outputs": [],
   "source": [
    "predictions['user'].to_csv('csv/rec_games.csv')"
   ]
  },
  {
   "cell_type": "code",
   "execution_count": 5,
   "id": "68d3209d-3bc0-4664-a5e1-c33a67b0dcc8",
   "metadata": {},
   "outputs": [
    {
     "name": "stdout",
     "output_type": "stream",
     "text": [
      "1483072\n"
     ]
    },
    {
     "data": {
      "text/html": [
       "<div>\n",
       "<style scoped>\n",
       "    .dataframe tbody tr th:only-of-type {\n",
       "        vertical-align: middle;\n",
       "    }\n",
       "\n",
       "    .dataframe tbody tr th {\n",
       "        vertical-align: top;\n",
       "    }\n",
       "\n",
       "    .dataframe thead th {\n",
       "        text-align: right;\n",
       "    }\n",
       "</style>\n",
       "<table border=\"1\" class=\"dataframe\">\n",
       "  <thead>\n",
       "    <tr style=\"text-align: right;\">\n",
       "      <th></th>\n",
       "      <th>gameid</th>\n",
       "      <th>user</th>\n",
       "    </tr>\n",
       "  </thead>\n",
       "  <tbody>\n",
       "    <tr>\n",
       "      <th>0</th>\n",
       "      <td>295770</td>\n",
       "      <td>-=Yod@=-</td>\n",
       "    </tr>\n",
       "    <tr>\n",
       "      <th>1</th>\n",
       "      <td>251661</td>\n",
       "      <td>-=Yod@=-</td>\n",
       "    </tr>\n",
       "  </tbody>\n",
       "</table>\n",
       "</div>"
      ],
      "text/plain": [
       "   gameid      user\n",
       "0  295770  -=Yod@=-\n",
       "1  251661  -=Yod@=-"
      ]
     },
     "execution_count": 5,
     "metadata": {},
     "output_type": "execute_result"
    }
   ],
   "source": [
    "pr_user = pd.read_csv('csv/rec_games.csv')\n",
    "print(len(pr_user))\n",
    "pr_user.head(2)\n",
    "#pr_user[:1000].to_csv('csv/rec_games_reduced.csv', index=False)  # just for testing"
   ]
  },
  {
   "cell_type": "code",
   "execution_count": 93,
   "id": "82ae3eaf-3a4b-4ec8-b5b5-ae87be616665",
   "metadata": {},
   "outputs": [],
   "source": [
    "# the final output 'rec_games.csv' I will use to load to User model of my Django framework"
   ]
  },
  {
   "cell_type": "code",
   "execution_count": null,
   "id": "6570e98d-c747-4b4e-9b35-5ec9af7e9b62",
   "metadata": {},
   "outputs": [],
   "source": []
  },
  {
   "cell_type": "code",
   "execution_count": null,
   "id": "e04d6ed7-7ca6-428b-b2b7-d97e6041639e",
   "metadata": {},
   "outputs": [],
   "source": []
  },
  {
   "cell_type": "code",
   "execution_count": null,
   "id": "d52ff976-db73-4454-a51d-968d74574e41",
   "metadata": {},
   "outputs": [],
   "source": []
  }
 ],
 "metadata": {
  "kernelspec": {
   "display_name": "Python 3 (ipykernel)",
   "language": "python",
   "name": "python3"
  },
  "language_info": {
   "codemirror_mode": {
    "name": "ipython",
    "version": 3
   },
   "file_extension": ".py",
   "mimetype": "text/x-python",
   "name": "python",
   "nbconvert_exporter": "python",
   "pygments_lexer": "ipython3",
   "version": "3.9.12"
  }
 },
 "nbformat": 4,
 "nbformat_minor": 5
}
